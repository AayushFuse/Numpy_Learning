{
 "cells": [
  {
   "cell_type": "code",
   "execution_count": 4,
   "id": "bfeba463",
   "metadata": {},
   "outputs": [],
   "source": [
    "from csv import reader\n",
    "import numpy as np"
   ]
  },
  {
   "cell_type": "code",
   "execution_count": 2,
   "id": "5b0bbd99",
   "metadata": {},
   "outputs": [],
   "source": [
    "with open('heart-disease.csv', 'r', encoding='UTF-8') as file:\n",
    "    data = reader(file)\n",
    "    data = list(data)"
   ]
  },
  {
   "cell_type": "code",
   "execution_count": 7,
   "id": "d1e5bd0a",
   "metadata": {},
   "outputs": [],
   "source": [
    "data = np.array(data)"
   ]
  },
  {
   "cell_type": "code",
   "execution_count": 8,
   "id": "119c42ad",
   "metadata": {},
   "outputs": [
    {
     "data": {
      "text/plain": [
       "array([['\\ufeffage', 'sex', 'cp', ..., 'ca', 'thal', 'target'],\n",
       "       ['63', '1', '3', ..., '0', '1', '1'],\n",
       "       ['37', '1', '2', ..., '0', '2', '1'],\n",
       "       ...,\n",
       "       ['68', '1', '0', ..., '2', '3', '0'],\n",
       "       ['57', '1', '0', ..., '1', '3', '0'],\n",
       "       ['57', '0', '1', ..., '1', '2', '0']], dtype='<U8')"
      ]
     },
     "execution_count": 8,
     "metadata": {},
     "output_type": "execute_result"
    }
   ],
   "source": [
    "data"
   ]
  },
  {
   "cell_type": "code",
   "execution_count": 17,
   "id": "32e43601",
   "metadata": {},
   "outputs": [
    {
     "data": {
      "text/plain": [
       "array([[63.,  1.,  3., ...,  0.,  1.,  1.],\n",
       "       [37.,  1.,  2., ...,  0.,  2.,  1.],\n",
       "       [41.,  0.,  1., ...,  0.,  2.,  1.],\n",
       "       ...,\n",
       "       [68.,  1.,  0., ...,  2.,  3.,  0.],\n",
       "       [57.,  1.,  0., ...,  1.,  3.,  0.],\n",
       "       [57.,  0.,  1., ...,  1.,  2.,  0.]])"
      ]
     },
     "execution_count": 17,
     "metadata": {},
     "output_type": "execute_result"
    }
   ],
   "source": [
    "header = data[0]\n",
    "np_data = data[1:,:].astype('float')\n",
    "np_data"
   ]
  },
  {
   "cell_type": "code",
   "execution_count": 18,
   "id": "be14d5b5",
   "metadata": {},
   "outputs": [
    {
     "data": {
      "text/plain": [
       "numpy.ndarray"
      ]
     },
     "execution_count": 18,
     "metadata": {},
     "output_type": "execute_result"
    }
   ],
   "source": [
    "type(np_data)"
   ]
  },
  {
   "cell_type": "code",
   "execution_count": 23,
   "id": "aea9b3d2",
   "metadata": {},
   "outputs": [
    {
     "data": {
      "text/plain": [
       "array([238,   0,   0, 223,  85,   0, 144,  72,   4, 204,   2,  92,   7,\n",
       "         0])"
      ]
     },
     "execution_count": 23,
     "metadata": {},
     "output_type": "execute_result"
    }
   ],
   "source": [
    "np_data.argmax(axis=0)"
   ]
  },
  {
   "cell_type": "code",
   "execution_count": 24,
   "id": "26df63b0",
   "metadata": {},
   "outputs": [
    {
     "data": {
      "text/plain": [
       "dtype('float64')"
      ]
     },
     "execution_count": 24,
     "metadata": {},
     "output_type": "execute_result"
    }
   ],
   "source": [
    "np_data.dtype"
   ]
  },
  {
   "cell_type": "code",
   "execution_count": 32,
   "id": "bc094cf9",
   "metadata": {},
   "outputs": [],
   "source": [
    "age_val = np_data[:,0]"
   ]
  },
  {
   "cell_type": "code",
   "execution_count": 36,
   "id": "f123742f",
   "metadata": {},
   "outputs": [],
   "source": [
    "lt30gt20 = np_data[(age_val<30)&(age_val>20)]"
   ]
  },
  {
   "cell_type": "code",
   "execution_count": 38,
   "id": "d3f8e095",
   "metadata": {},
   "outputs": [],
   "source": [
    "unique_numbers, counts = np.unique(lt30gt20,return_counts=True)"
   ]
  },
  {
   "cell_type": "code",
   "execution_count": 39,
   "id": "ea4f2711",
   "metadata": {},
   "outputs": [
    {
     "data": {
      "text/plain": [
       "(array([  0.,   1.,   2.,  29., 130., 202., 204.]),\n",
       " array([5, 3, 2, 1, 1, 1, 1]))"
      ]
     },
     "execution_count": 39,
     "metadata": {},
     "output_type": "execute_result"
    }
   ],
   "source": [
    "unique_numbers,counts"
   ]
  },
  {
   "cell_type": "code",
   "execution_count": 42,
   "id": "0867afca",
   "metadata": {},
   "outputs": [],
   "source": [
    "np.random.shuffle(unique_numbers)"
   ]
  },
  {
   "cell_type": "code",
   "execution_count": 43,
   "id": "b081afbb",
   "metadata": {},
   "outputs": [
    {
     "data": {
      "text/plain": [
       "array([202.,  29.,   1., 130., 204.,   2.,   0.])"
      ]
     },
     "execution_count": 43,
     "metadata": {},
     "output_type": "execute_result"
    }
   ],
   "source": [
    "unique_numbers"
   ]
  },
  {
   "cell_type": "code",
   "execution_count": 44,
   "id": "99104418",
   "metadata": {},
   "outputs": [],
   "source": [
    "new_array = np.resize(unique_numbers, (3, 2))"
   ]
  },
  {
   "cell_type": "code",
   "execution_count": 45,
   "id": "10c54df1",
   "metadata": {},
   "outputs": [
    {
     "data": {
      "text/plain": [
       "array([202.,  29.,   1., 130., 204.,   2.,   0.])"
      ]
     },
     "execution_count": 45,
     "metadata": {},
     "output_type": "execute_result"
    }
   ],
   "source": [
    "unique_numbers"
   ]
  },
  {
   "cell_type": "code",
   "execution_count": 46,
   "id": "31ad8f30",
   "metadata": {},
   "outputs": [],
   "source": [
    "new_array[0][0] = 6"
   ]
  },
  {
   "cell_type": "code",
   "execution_count": 47,
   "id": "70fdfc4d",
   "metadata": {},
   "outputs": [
    {
     "data": {
      "text/plain": [
       "array([202.,  29.,   1., 130., 204.,   2.,   0.])"
      ]
     },
     "execution_count": 47,
     "metadata": {},
     "output_type": "execute_result"
    }
   ],
   "source": [
    "unique_numbers"
   ]
  },
  {
   "cell_type": "code",
   "execution_count": 48,
   "id": "987f337c",
   "metadata": {},
   "outputs": [],
   "source": [
    "new_unique_num = np.resize(unique_numbers, (2,3))"
   ]
  },
  {
   "cell_type": "code",
   "execution_count": 49,
   "id": "b5fdf5b8",
   "metadata": {},
   "outputs": [
    {
     "data": {
      "text/plain": [
       "array([[202.,  29.,   1.],\n",
       "       [130., 204.,   2.]])"
      ]
     },
     "execution_count": 49,
     "metadata": {},
     "output_type": "execute_result"
    }
   ],
   "source": [
    "new_unique_num"
   ]
  },
  {
   "cell_type": "code",
   "execution_count": 50,
   "id": "b3923616",
   "metadata": {},
   "outputs": [
    {
     "data": {
      "text/plain": [
       "array([202.,  29.,   1., 130., 204.,   2.,   0.])"
      ]
     },
     "execution_count": 50,
     "metadata": {},
     "output_type": "execute_result"
    }
   ],
   "source": [
    "unique_numbers"
   ]
  },
  {
   "cell_type": "markdown",
   "id": "4d29bb7e",
   "metadata": {},
   "source": [
    "#### Assignment\n",
    "\n",
    "1. Count male and female counts\n",
    "2. counts\n",
    "3. sort\n",
    "4. where\n",
    "5. linear algebra"
   ]
  }
 ],
 "metadata": {
  "kernelspec": {
   "display_name": "Python 3 (ipykernel)",
   "language": "python",
   "name": "python3"
  },
  "language_info": {
   "codemirror_mode": {
    "name": "ipython",
    "version": 3
   },
   "file_extension": ".py",
   "mimetype": "text/x-python",
   "name": "python",
   "nbconvert_exporter": "python",
   "pygments_lexer": "ipython3",
   "version": "3.11.5"
  }
 },
 "nbformat": 4,
 "nbformat_minor": 5
}
