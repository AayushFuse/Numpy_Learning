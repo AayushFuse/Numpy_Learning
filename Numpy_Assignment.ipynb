{
 "cells": [
  {
   "cell_type": "code",
   "execution_count": 104,
   "id": "bfeba463",
   "metadata": {},
   "outputs": [],
   "source": [
    "from csv import reader\n",
    "import numpy as np"
   ]
  },
  {
   "cell_type": "code",
   "execution_count": 105,
   "id": "5b0bbd99",
   "metadata": {},
   "outputs": [],
   "source": [
    "with open('heart-disease.csv', 'r', encoding='UTF-8') as file:\n",
    "    data = reader(file)\n",
    "    data = list(data)"
   ]
  },
  {
   "cell_type": "code",
   "execution_count": 106,
   "id": "d1e5bd0a",
   "metadata": {},
   "outputs": [],
   "source": [
    "data = np.array(data)"
   ]
  },
  {
   "cell_type": "code",
   "execution_count": 107,
   "id": "119c42ad",
   "metadata": {},
   "outputs": [
    {
     "data": {
      "text/plain": [
       "array([['\\ufeffage', 'sex', 'cp', ..., 'ca', 'thal', 'target'],\n",
       "       ['63', '1', '3', ..., '0', '1', '1'],\n",
       "       ['37', '1', '2', ..., '0', '2', '1'],\n",
       "       ...,\n",
       "       ['68', '1', '0', ..., '2', '3', '0'],\n",
       "       ['57', '1', '0', ..., '1', '3', '0'],\n",
       "       ['57', '0', '1', ..., '1', '2', '0']], dtype='<U8')"
      ]
     },
     "execution_count": 107,
     "metadata": {},
     "output_type": "execute_result"
    }
   ],
   "source": [
    "data"
   ]
  },
  {
   "cell_type": "code",
   "execution_count": 108,
   "id": "32e43601",
   "metadata": {},
   "outputs": [
    {
     "data": {
      "text/plain": [
       "array([[63.,  1.,  3., ...,  0.,  1.,  1.],\n",
       "       [37.,  1.,  2., ...,  0.,  2.,  1.],\n",
       "       [41.,  0.,  1., ...,  0.,  2.,  1.],\n",
       "       ...,\n",
       "       [68.,  1.,  0., ...,  2.,  3.,  0.],\n",
       "       [57.,  1.,  0., ...,  1.,  3.,  0.],\n",
       "       [57.,  0.,  1., ...,  1.,  2.,  0.]])"
      ]
     },
     "execution_count": 108,
     "metadata": {},
     "output_type": "execute_result"
    }
   ],
   "source": [
    "header = data[0]\n",
    "np_data = data[1:,:].astype('float')\n",
    "np_data"
   ]
  },
  {
   "cell_type": "markdown",
   "id": "4d29bb7e",
   "metadata": {},
   "source": [
    "#### Assignment\n",
    "\n",
    "1. Count male and female counts\n",
    "2. counts\n",
    "3. sort\n",
    "4. where\n",
    "5. linear algebra"
   ]
  },
  {
   "cell_type": "markdown",
   "id": "3ff9f597",
   "metadata": {},
   "source": [
    "### Counting Male and Female"
   ]
  },
  {
   "cell_type": "code",
   "execution_count": 109,
   "id": "89569ac5",
   "metadata": {},
   "outputs": [],
   "source": [
    "sex = data[1:,1].astype('int')"
   ]
  },
  {
   "cell_type": "code",
   "execution_count": 110,
   "id": "bf5d3a59",
   "metadata": {},
   "outputs": [
    {
     "data": {
      "text/plain": [
       "array([1, 1, 0, 1, 0, 1, 0, 1, 1, 1, 1, 0, 1, 1, 0, 0, 0, 0, 1, 0, 1, 1,\n",
       "       1, 1, 1, 0, 1, 1, 0, 1, 0, 1, 1, 1, 1, 0, 0, 1, 0, 0, 0, 1, 1, 0,\n",
       "       1, 1, 1, 1, 0, 0, 0, 1, 1, 0, 0, 1, 1, 1, 1, 0, 0, 1, 1, 1, 1, 0,\n",
       "       1, 0, 1, 0, 1, 1, 1, 1, 0, 0, 1, 1, 1, 1, 1, 1, 0, 1, 0, 0, 1, 1,\n",
       "       0, 0, 1, 1, 1, 0, 0, 1, 0, 1, 1, 1, 1, 1, 0, 1, 1, 0, 1, 0, 0, 0,\n",
       "       0, 1, 0, 1, 1, 0, 1, 1, 0, 0, 0, 1, 0, 0, 0, 0, 1, 0, 0, 0, 0, 0,\n",
       "       1, 1, 0, 0, 0, 1, 1, 1, 0, 1, 0, 0, 0, 1, 0, 0, 1, 1, 1, 0, 1, 0,\n",
       "       0, 0, 1, 1, 1, 1, 1, 0, 1, 1, 1, 1, 1, 0, 1, 1, 1, 1, 1, 1, 1, 1,\n",
       "       1, 1, 1, 1, 1, 0, 0, 1, 1, 1, 1, 1, 1, 1, 0, 1, 1, 1, 1, 1, 1, 1,\n",
       "       1, 1, 1, 1, 1, 1, 0, 1, 1, 0, 1, 1, 1, 1, 1, 0, 1, 0, 0, 1, 1, 1,\n",
       "       0, 1, 1, 0, 1, 1, 1, 1, 1, 1, 1, 1, 1, 1, 1, 1, 1, 1, 1, 1, 1, 0,\n",
       "       1, 1, 1, 1, 0, 1, 1, 1, 1, 1, 0, 1, 1, 1, 1, 1, 0, 1, 0, 1, 1, 0,\n",
       "       1, 1, 0, 1, 1, 1, 1, 1, 1, 1, 1, 1, 1, 1, 0, 1, 1, 1, 1, 1, 1, 1,\n",
       "       1, 1, 1, 0, 1, 1, 0, 1, 1, 1, 0, 1, 0, 1, 1, 1, 0])"
      ]
     },
     "execution_count": 110,
     "metadata": {},
     "output_type": "execute_result"
    }
   ],
   "source": [
    "sex"
   ]
  },
  {
   "cell_type": "code",
   "execution_count": 111,
   "id": "db689468",
   "metadata": {},
   "outputs": [],
   "source": [
    "values,counts = np.unique(sex,return_counts=True)"
   ]
  },
  {
   "cell_type": "code",
   "execution_count": 112,
   "id": "3c986a63",
   "metadata": {},
   "outputs": [
    {
     "name": "stdout",
     "output_type": "stream",
     "text": [
      "0 96\n",
      "1 207\n"
     ]
    }
   ],
   "source": [
    "# Male and female counts displayed\n",
    "for i,j in zip(values,counts):\n",
    "    print(i,j)"
   ]
  },
  {
   "cell_type": "markdown",
   "id": "75fff38d",
   "metadata": {},
   "source": [
    "### Sorting values by age"
   ]
  },
  {
   "cell_type": "code",
   "execution_count": 113,
   "id": "a8b76758",
   "metadata": {},
   "outputs": [
    {
     "data": {
      "text/plain": [
       "array([['\\ufeffage', 'sex', 'cp', ..., 'ca', 'thal', 'target'],\n",
       "       ['63', '1', '3', ..., '0', '1', '1'],\n",
       "       ['37', '1', '2', ..., '0', '2', '1'],\n",
       "       ...,\n",
       "       ['68', '1', '0', ..., '2', '3', '0'],\n",
       "       ['57', '1', '0', ..., '1', '3', '0'],\n",
       "       ['57', '0', '1', ..., '1', '2', '0']], dtype='<U8')"
      ]
     },
     "execution_count": 113,
     "metadata": {},
     "output_type": "execute_result"
    }
   ],
   "source": [
    "data"
   ]
  },
  {
   "cell_type": "code",
   "execution_count": 114,
   "id": "85e48846",
   "metadata": {},
   "outputs": [],
   "source": [
    "# Sorted by age as age is in first column\n",
    "sorted_data = np.sort(np_data,axis=0)"
   ]
  },
  {
   "cell_type": "code",
   "execution_count": 115,
   "id": "a812fd6a",
   "metadata": {},
   "outputs": [
    {
     "name": "stdout",
     "output_type": "stream",
     "text": [
      "[[29.  0.  0. ...  0.  0.  0.]\n",
      " [34.  0.  0. ...  0.  0.  0.]\n",
      " [34.  0.  0. ...  0.  1.  0.]\n",
      " ...\n",
      " [74.  1.  3. ...  4.  3.  1.]\n",
      " [76.  1.  3. ...  4.  3.  1.]\n",
      " [77.  1.  3. ...  4.  3.  1.]]\n"
     ]
    }
   ],
   "source": [
    "print(sorted_data)"
   ]
  },
  {
   "cell_type": "code",
   "execution_count": 116,
   "id": "fb53db01",
   "metadata": {},
   "outputs": [
    {
     "data": {
      "text/plain": [
       "array([29., 34., 34., 35., 35., 35., 35., 37., 37., 38., 38., 38., 39.,\n",
       "       39., 39., 39., 40., 40., 40., 41., 41., 41., 41., 41., 41., 41.,\n",
       "       41., 41., 41., 42., 42., 42., 42., 42., 42., 42., 42., 43., 43.,\n",
       "       43., 43., 43., 43., 43., 43., 44., 44., 44., 44., 44., 44., 44.,\n",
       "       44., 44., 44., 44., 45., 45., 45., 45., 45., 45., 45., 45., 46.,\n",
       "       46., 46., 46., 46., 46., 46., 47., 47., 47., 47., 47., 48., 48.,\n",
       "       48., 48., 48., 48., 48., 49., 49., 49., 49., 49., 50., 50., 50.,\n",
       "       50., 50., 50., 50., 51., 51., 51., 51., 51., 51., 51., 51., 51.,\n",
       "       51., 51., 51., 52., 52., 52., 52., 52., 52., 52., 52., 52., 52.,\n",
       "       52., 52., 52., 53., 53., 53., 53., 53., 53., 53., 53., 54., 54.,\n",
       "       54., 54., 54., 54., 54., 54., 54., 54., 54., 54., 54., 54., 54.,\n",
       "       54., 55., 55., 55., 55., 55., 55., 55., 55., 56., 56., 56., 56.,\n",
       "       56., 56., 56., 56., 56., 56., 56., 57., 57., 57., 57., 57., 57.,\n",
       "       57., 57., 57., 57., 57., 57., 57., 57., 57., 57., 57., 58., 58.,\n",
       "       58., 58., 58., 58., 58., 58., 58., 58., 58., 58., 58., 58., 58.,\n",
       "       58., 58., 58., 58., 59., 59., 59., 59., 59., 59., 59., 59., 59.,\n",
       "       59., 59., 59., 59., 59., 60., 60., 60., 60., 60., 60., 60., 60.,\n",
       "       60., 60., 60., 61., 61., 61., 61., 61., 61., 61., 61., 62., 62.,\n",
       "       62., 62., 62., 62., 62., 62., 62., 62., 62., 63., 63., 63., 63.,\n",
       "       63., 63., 63., 63., 63., 64., 64., 64., 64., 64., 64., 64., 64.,\n",
       "       64., 64., 65., 65., 65., 65., 65., 65., 65., 65., 66., 66., 66.,\n",
       "       66., 66., 66., 66., 67., 67., 67., 67., 67., 67., 67., 67., 67.,\n",
       "       68., 68., 68., 68., 69., 69., 69., 70., 70., 70., 70., 71., 71.,\n",
       "       71., 74., 76., 77.])"
      ]
     },
     "execution_count": 116,
     "metadata": {},
     "output_type": "execute_result"
    }
   ],
   "source": [
    "# Verify\n",
    "sorted_data[:,0]"
   ]
  },
  {
   "cell_type": "markdown",
   "id": "9ec50cf0",
   "metadata": {},
   "source": [
    "### Using np.where to view index where age <35"
   ]
  },
  {
   "cell_type": "code",
   "execution_count": 117,
   "id": "5837cd05",
   "metadata": {},
   "outputs": [
    {
     "data": {
      "text/plain": [
       "array([[ 29.,   0.,   0.,  94., 126.,   0.,   0.,  71.,   0.,   0.,   0.,\n",
       "          0.,   0.,   0.],\n",
       "       [ 34.,   0.,   0.,  94., 131.,   0.,   0.,  88.,   0.,   0.,   0.,\n",
       "          0.,   0.,   0.],\n",
       "       [ 34.,   0.,   0., 100., 141.,   0.,   0.,  90.,   0.,   0.,   0.,\n",
       "          0.,   1.,   0.]])"
      ]
     },
     "execution_count": 117,
     "metadata": {},
     "output_type": "execute_result"
    }
   ],
   "source": [
    "sorted_data[np.where(sorted_data[:,0]<35)]"
   ]
  },
  {
   "cell_type": "markdown",
   "id": "156f3d4b",
   "metadata": {},
   "source": [
    "### Linear Algebra"
   ]
  },
  {
   "cell_type": "code",
   "execution_count": 118,
   "id": "b8ecd90a",
   "metadata": {},
   "outputs": [],
   "source": [
    "# dot function\n",
    "array1 = np.array([1, 3, 5])\n",
    "array2 = np.array([2, 4, 6])\n"
   ]
  },
  {
   "cell_type": "code",
   "execution_count": 119,
   "id": "52fd7a34",
   "metadata": {},
   "outputs": [
    {
     "data": {
      "text/plain": [
       "44"
      ]
     },
     "execution_count": 119,
     "metadata": {},
     "output_type": "execute_result"
    }
   ],
   "source": [
    "np.dot(array1, array2)"
   ]
  },
  {
   "cell_type": "code",
   "execution_count": 120,
   "id": "c6385249",
   "metadata": {},
   "outputs": [],
   "source": [
    "array1 = np.array([[1, 3], \n",
    "                   [5, 7]])\n",
    "array2 = np.array([[2, 4], \n",
    "                   [6, 8]])\n"
   ]
  },
  {
   "cell_type": "code",
   "execution_count": 121,
   "id": "84d0c144",
   "metadata": {},
   "outputs": [
    {
     "data": {
      "text/plain": [
       "array([[14, 30],\n",
       "       [38, 86]])"
      ]
     },
     "execution_count": 121,
     "metadata": {},
     "output_type": "execute_result"
    }
   ],
   "source": [
    "np.inner(array1, array2)"
   ]
  },
  {
   "cell_type": "code",
   "execution_count": 122,
   "id": "46956dbc",
   "metadata": {},
   "outputs": [
    {
     "data": {
      "text/plain": [
       "array([[ 2,  4,  6,  8],\n",
       "       [ 6, 12, 18, 24],\n",
       "       [10, 20, 30, 40],\n",
       "       [14, 28, 42, 56]])"
      ]
     },
     "execution_count": 122,
     "metadata": {},
     "output_type": "execute_result"
    }
   ],
   "source": [
    "np.outer(array1,array2)"
   ]
  },
  {
   "cell_type": "code",
   "execution_count": 123,
   "id": "220c319d",
   "metadata": {},
   "outputs": [
    {
     "data": {
      "text/plain": [
       "-7.999999999999998"
      ]
     },
     "execution_count": 123,
     "metadata": {},
     "output_type": "execute_result"
    }
   ],
   "source": [
    "# for deteminant\n",
    "\n",
    "np.linalg.det(array1)"
   ]
  },
  {
   "cell_type": "code",
   "execution_count": 124,
   "id": "4621ffb9",
   "metadata": {},
   "outputs": [
    {
     "data": {
      "text/plain": [
       "array([-2.  ,  2.25])"
      ]
     },
     "execution_count": 124,
     "metadata": {},
     "output_type": "execute_result"
    }
   ],
   "source": [
    "# TO solve linear eqns\n",
    "# ax+by = c\n",
    "# for 2x+4y=5 and 6x+8y = 6\n",
    "\n",
    "A = np.array([[2,4],\n",
    "              [6,8]])\n",
    "B = np.array([5,6])\n",
    "\n",
    "np.linalg.solve(A,B)"
   ]
  },
  {
   "cell_type": "code",
   "execution_count": 129,
   "id": "71197cf5",
   "metadata": {},
   "outputs": [
    {
     "name": "stdout",
     "output_type": "stream",
     "text": [
      "[[-0.1  0.2]\n",
      " [ 0.3 -0.1]]\n"
     ]
    }
   ],
   "source": [
    "# To inverse a matrix\n",
    "array1 = np.array([[2,4],\n",
    "                   [6,2]])\n",
    "if np.linalg.det(array1) == 0:\n",
    "    print(\"Sorry Inverse Doesn't exist\")\n",
    "else:\n",
    "    print(np.linalg.inv(array1))"
   ]
  },
  {
   "cell_type": "code",
   "execution_count": 130,
   "id": "6811ce67",
   "metadata": {},
   "outputs": [
    {
     "data": {
      "text/plain": [
       "(array([ 6.89897949, -2.89897949]),\n",
       " array([[ 0.63245553, -0.63245553],\n",
       "        [ 0.77459667,  0.77459667]]))"
      ]
     },
     "execution_count": 130,
     "metadata": {},
     "output_type": "execute_result"
    }
   ],
   "source": [
    "np.linalg.eig(array1)"
   ]
  },
  {
   "cell_type": "code",
   "execution_count": 132,
   "id": "5a3d0d12",
   "metadata": {},
   "outputs": [
    {
     "data": {
      "text/plain": [
       "2"
      ]
     },
     "execution_count": 132,
     "metadata": {},
     "output_type": "execute_result"
    }
   ],
   "source": [
    "np.linalg.matrix_rank(array1)"
   ]
  },
  {
   "cell_type": "code",
   "execution_count": 133,
   "id": "6d762e38",
   "metadata": {},
   "outputs": [
    {
     "data": {
      "text/plain": [
       "(array([[-0.52573111, -0.85065081],\n",
       "        [-0.85065081,  0.52573111]]),\n",
       " array([7.23606798, 2.76393202]),\n",
       " array([[-0.85065081, -0.52573111],\n",
       "        [ 0.52573111, -0.85065081]]))"
      ]
     },
     "execution_count": 133,
     "metadata": {},
     "output_type": "execute_result"
    }
   ],
   "source": [
    "np.linalg.svd(array1)"
   ]
  }
 ],
 "metadata": {
  "kernelspec": {
   "display_name": "Python 3 (ipykernel)",
   "language": "python",
   "name": "python3"
  },
  "language_info": {
   "codemirror_mode": {
    "name": "ipython",
    "version": 3
   },
   "file_extension": ".py",
   "mimetype": "text/x-python",
   "name": "python",
   "nbconvert_exporter": "python",
   "pygments_lexer": "ipython3",
   "version": "3.11.5"
  }
 },
 "nbformat": 4,
 "nbformat_minor": 5
}
